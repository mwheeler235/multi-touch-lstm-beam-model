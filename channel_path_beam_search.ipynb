{
 "cells": [
  {
   "cell_type": "code",
   "execution_count": 1,
   "id": "19b20558",
   "metadata": {},
   "outputs": [],
   "source": [
    "import numpy as np\n",
    "import pandas as pd\n",
    "import matplotlib.pyplot as plt\n",
    "\n",
    "from sklearn.preprocessing import LabelEncoder, StandardScaler\n",
    "import os\n",
    "from scipy.stats import truncnorm\n",
    "import ipywidgets as widgets\n",
    "from IPython.display import display, HTML, clear_output\n",
    "\n",
    "from tensorflow.keras.models import load_model\n",
    "from tensorflow.keras.models import Model\n",
    "from tensorflow.keras.layers import Input, LSTM, Dense, Concatenate, Embedding\n",
    "from tensorflow.keras.callbacks import EarlyStopping\n",
    "from tensorflow.keras.metrics import Recall"
   ]
  },
  {
   "cell_type": "code",
   "execution_count": 2,
   "id": "e914956f",
   "metadata": {},
   "outputs": [],
   "source": [
    "def generate_customer_features(n):\n",
    "    np.random.seed(42)\n",
    "    age = np.clip(np.random.normal(40, 12, n).astype(int), 18, 70)  # Normal distribution, clipped to 18-70\n",
    "    # Use truncated normal for income to avoid mode at lower bound\n",
    "\n",
    "    lower, upper = 40000, 180000\n",
    "    mu, sigma = 75000, 35000\n",
    "    a, b = (lower - mu) / sigma, (upper - mu) / sigma\n",
    "    income = truncnorm(a, b, loc=mu, scale=sigma).rvs(n).astype(int)\n",
    "    marital_status = np.random.choice(['single', 'married', 'divorced'], n, p=[0.5, 0.4, 0.1])\n",
    "    # Conversion: correlated with income, age, marital status, but target ~8%\n",
    "    logits = 0.7 * (income > 65000).astype(int) + 0.5 * (age > 40).astype(int) + 0.6 * (marital_status == 'married').astype(int)\n",
    "    logits = logits + np.random.normal(0, 0.5, n)\n",
    "    prob = 1 / (1 + np.exp(-logits - 2.2))  # Shift to lower base rate\n",
    "    conversion = np.random.binomial(1, prob)\n",
    "    return pd.DataFrame({\n",
    "        'user_id': np.arange(n),\n",
    "        'age': age,\n",
    "        'income': income,\n",
    "        'marital_status': marital_status,\n",
    "        'conversion': conversion.astype(int)\n",
    "    })\n",
    "\n",
    "def generate_touchpoints(n, max_tp, channels, campaigns):\n",
    "    touchpoints = []\n",
    "    for user_id in range(n):\n",
    "        num_tp = np.random.randint(1, max_tp+1)\n",
    "        for t in range(num_tp):\n",
    "            touchpoints.append({\n",
    "                'user_id': user_id,\n",
    "                'tp_order': t,\n",
    "                'channel': np.random.choice(channels),\n",
    "                'campaign': np.random.choice(campaigns)\n",
    "            })\n",
    "    return pd.DataFrame(touchpoints)"
   ]
  },
  {
   "cell_type": "code",
   "execution_count": 3,
   "id": "8b311c83",
   "metadata": {},
   "outputs": [
    {
     "data": {
      "text/html": [
       "<div>\n",
       "<style scoped>\n",
       "    .dataframe tbody tr th:only-of-type {\n",
       "        vertical-align: middle;\n",
       "    }\n",
       "\n",
       "    .dataframe tbody tr th {\n",
       "        vertical-align: top;\n",
       "    }\n",
       "\n",
       "    .dataframe thead th {\n",
       "        text-align: right;\n",
       "    }\n",
       "</style>\n",
       "<table border=\"1\" class=\"dataframe\">\n",
       "  <thead>\n",
       "    <tr style=\"text-align: right;\">\n",
       "      <th></th>\n",
       "      <th>user_id</th>\n",
       "      <th>age</th>\n",
       "      <th>income</th>\n",
       "      <th>marital_status</th>\n",
       "      <th>conversion</th>\n",
       "    </tr>\n",
       "  </thead>\n",
       "  <tbody>\n",
       "    <tr>\n",
       "      <th>0</th>\n",
       "      <td>0</td>\n",
       "      <td>45</td>\n",
       "      <td>68693</td>\n",
       "      <td>single</td>\n",
       "      <td>1</td>\n",
       "    </tr>\n",
       "    <tr>\n",
       "      <th>1</th>\n",
       "      <td>1</td>\n",
       "      <td>38</td>\n",
       "      <td>50860</td>\n",
       "      <td>single</td>\n",
       "      <td>1</td>\n",
       "    </tr>\n",
       "    <tr>\n",
       "      <th>2</th>\n",
       "      <td>2</td>\n",
       "      <td>47</td>\n",
       "      <td>47851</td>\n",
       "      <td>divorced</td>\n",
       "      <td>1</td>\n",
       "    </tr>\n",
       "    <tr>\n",
       "      <th>3</th>\n",
       "      <td>3</td>\n",
       "      <td>58</td>\n",
       "      <td>50036</td>\n",
       "      <td>married</td>\n",
       "      <td>1</td>\n",
       "    </tr>\n",
       "    <tr>\n",
       "      <th>4</th>\n",
       "      <td>4</td>\n",
       "      <td>37</td>\n",
       "      <td>88322</td>\n",
       "      <td>single</td>\n",
       "      <td>1</td>\n",
       "    </tr>\n",
       "  </tbody>\n",
       "</table>\n",
       "</div>"
      ],
      "text/plain": [
       "   user_id  age  income marital_status  conversion\n",
       "0        0   45   68693         single           1\n",
       "1        1   38   50860         single           1\n",
       "2        2   47   47851       divorced           1\n",
       "3        3   58   50036        married           1\n",
       "4        4   37   88322         single           1"
      ]
     },
     "metadata": {},
     "output_type": "display_data"
    },
    {
     "data": {
      "text/html": [
       "<div>\n",
       "<style scoped>\n",
       "    .dataframe tbody tr th:only-of-type {\n",
       "        vertical-align: middle;\n",
       "    }\n",
       "\n",
       "    .dataframe tbody tr th {\n",
       "        vertical-align: top;\n",
       "    }\n",
       "\n",
       "    .dataframe thead th {\n",
       "        text-align: right;\n",
       "    }\n",
       "</style>\n",
       "<table border=\"1\" class=\"dataframe\">\n",
       "  <thead>\n",
       "    <tr style=\"text-align: right;\">\n",
       "      <th></th>\n",
       "      <th>user_id</th>\n",
       "      <th>tp_order</th>\n",
       "      <th>channel</th>\n",
       "      <th>campaign</th>\n",
       "    </tr>\n",
       "  </thead>\n",
       "  <tbody>\n",
       "    <tr>\n",
       "      <th>0</th>\n",
       "      <td>0</td>\n",
       "      <td>0</td>\n",
       "      <td>Social</td>\n",
       "      <td>Abandoned Cart</td>\n",
       "    </tr>\n",
       "    <tr>\n",
       "      <th>1</th>\n",
       "      <td>0</td>\n",
       "      <td>1</td>\n",
       "      <td>Paid Search</td>\n",
       "      <td>Content Marketing</td>\n",
       "    </tr>\n",
       "    <tr>\n",
       "      <th>2</th>\n",
       "      <td>0</td>\n",
       "      <td>2</td>\n",
       "      <td>Email</td>\n",
       "      <td>Referral</td>\n",
       "    </tr>\n",
       "    <tr>\n",
       "      <th>3</th>\n",
       "      <td>0</td>\n",
       "      <td>3</td>\n",
       "      <td>Direct</td>\n",
       "      <td>Holiday Promo</td>\n",
       "    </tr>\n",
       "    <tr>\n",
       "      <th>4</th>\n",
       "      <td>1</td>\n",
       "      <td>0</td>\n",
       "      <td>Organic Search</td>\n",
       "      <td>Product Launch</td>\n",
       "    </tr>\n",
       "  </tbody>\n",
       "</table>\n",
       "</div>"
      ],
      "text/plain": [
       "   user_id  tp_order         channel           campaign\n",
       "0        0         0          Social     Abandoned Cart\n",
       "1        0         1     Paid Search  Content Marketing\n",
       "2        0         2           Email           Referral\n",
       "3        0         3          Direct      Holiday Promo\n",
       "4        1         0  Organic Search     Product Launch"
      ]
     },
     "metadata": {},
     "output_type": "display_data"
    }
   ],
   "source": [
    "# Parameters\n",
    "data_size = 10000\n",
    "max_touchpoints = 8\n",
    "channels = ['Email', 'Paid Search', 'Organic Search', 'Social', 'Display', 'Direct']\n",
    "campaigns = [\n",
    "    'Brand Awareness', 'Holiday Promo', 'Retargeting', 'Product Launch', 'Abandoned Cart',\n",
    "    'Loyalty Program', 'Referral', 'Flash Sale', 'Seasonal', 'Content Marketing'\n",
    " ]\n",
    "\n",
    "customers = generate_customer_features(data_size)\n",
    "touchpoints = generate_touchpoints(data_size, max_touchpoints, channels, campaigns)\n",
    "num_channels = len(channels)\n",
    "num_campaigns = len(campaigns)\n",
    "\n",
    "# Show the first few rows\n",
    "display(customers.head())\n",
    "display(touchpoints.head())"
   ]
  },
  {
   "cell_type": "code",
   "execution_count": 27,
   "id": "b5a008b3",
   "metadata": {},
   "outputs": [
    {
     "data": {
      "text/html": [
       "<div>\n",
       "<style scoped>\n",
       "    .dataframe tbody tr th:only-of-type {\n",
       "        vertical-align: middle;\n",
       "    }\n",
       "\n",
       "    .dataframe tbody tr th {\n",
       "        vertical-align: top;\n",
       "    }\n",
       "\n",
       "    .dataframe thead th {\n",
       "        text-align: right;\n",
       "    }\n",
       "</style>\n",
       "<table border=\"1\" class=\"dataframe\">\n",
       "  <thead>\n",
       "    <tr style=\"text-align: right;\">\n",
       "      <th></th>\n",
       "      <th>count</th>\n",
       "      <th>percentage</th>\n",
       "    </tr>\n",
       "    <tr>\n",
       "      <th>conversion</th>\n",
       "      <th></th>\n",
       "      <th></th>\n",
       "    </tr>\n",
       "  </thead>\n",
       "  <tbody>\n",
       "    <tr>\n",
       "      <th>0</th>\n",
       "      <td>465</td>\n",
       "      <td>4.65%</td>\n",
       "    </tr>\n",
       "    <tr>\n",
       "      <th>1</th>\n",
       "      <td>9535</td>\n",
       "      <td>95.35%</td>\n",
       "    </tr>\n",
       "  </tbody>\n",
       "</table>\n",
       "</div>"
      ],
      "text/plain": [
       "            count percentage\n",
       "conversion                  \n",
       "0             465      4.65%\n",
       "1            9535     95.35%"
      ]
     },
     "execution_count": 27,
     "metadata": {},
     "output_type": "execute_result"
    }
   ],
   "source": [
    "conversion_counts = customers.groupby('conversion')['user_id'].count()\n",
    "conversion_percentages = conversion_counts / customers.shape[0]\n",
    "result = pd.DataFrame({\n",
    "\t'count': conversion_counts,\n",
    "\t'percentage': conversion_percentages # format as percentage\n",
    "})\n",
    "result['percentage'] = result['percentage'].apply(lambda x: f'{x:.2%}')\n",
    "result"
   ]
  },
  {
   "cell_type": "code",
   "execution_count": 5,
   "id": "3564df89",
   "metadata": {},
   "outputs": [
    {
     "data": {
      "image/png": "[encoded data removed]",
      "text/plain": [
       "<Figure size 600x400 with 1 Axes>"
      ]
     },
     "metadata": {},
     "output_type": "display_data"
    }
   ],
   "source": [
    "# distribution of age\n",
    "plt.figure(figsize=(6, 4))\n",
    "plt.hist(customers['age'], bins=20, color='skyblue', edgecolor='black')\n",
    "plt.title('Age Distribution')\n",
    "plt.xlabel('Age')\n",
    "plt.ylabel('Frequency')\n",
    "plt.grid(axis='y')\n",
    "plt.show()"
   ]
  },
  {
   "cell_type": "code",
   "execution_count": 6,
   "id": "31772d82",
   "metadata": {},
   "outputs": [
    {
     "data": {
      "image/png": "[encoded data removed]",
      "text/plain": [
       "<Figure size 600x400 with 1 Axes>"
      ]
     },
     "metadata": {},
     "output_type": "display_data"
    }
   ],
   "source": [
    "plt.figure(figsize=(6, 4))\n",
    "plt.hist(customers['income'], bins=20, color='skyblue', edgecolor='black')\n",
    "plt.title('Income Distribution')\n",
    "plt.xlabel('Income')\n",
    "plt.ylabel('Frequency')\n",
    "plt.grid(axis='y')\n",
    "plt.show()"
   ]
  },
  {
   "cell_type": "markdown",
   "id": "ac6bcc04",
   "metadata": {},
   "source": [
    "#### Preprocess data"
   ]
  },
  {
   "cell_type": "code",
   "execution_count": 7,
   "id": "34b919da",
   "metadata": {},
   "outputs": [],
   "source": [
    "# Preprocess data for LSTM input\n",
    "le_marital = LabelEncoder()\n",
    "customers['marital_status_enc'] = le_marital.fit_transform(customers['marital_status'])\n",
    "\n",
    "le_channel = LabelEncoder()\n",
    "touchpoints['channel_enc'] = le_channel.fit_transform(touchpoints['channel'])\n",
    "le_campaign = LabelEncoder()\n",
    "touchpoints['campaign_enc'] = le_campaign.fit_transform(touchpoints['campaign'])\n",
    "\n",
    "# Prepare sequences\n",
    "X_seq = np.zeros((data_size, max_touchpoints, 2), dtype=int)  # channel, campaign\n",
    "for user_id, group in touchpoints.groupby('user_id'):\n",
    "    for i, row in enumerate(group.sort_values('tp_order').itertuples()):\n",
    "        if i < max_touchpoints:\n",
    "            X_seq[user_id, i, 0] = row.channel_enc\n",
    "            X_seq[user_id, i, 1] = row.campaign_enc\n",
    "\n",
    "# Prepare customer features\n",
    "scaler = StandardScaler()\n",
    "X_cust = scaler.fit_transform(customers[['age', 'income', 'marital_status_enc']])\n",
    "y = customers['conversion'].values\n",
    "\n",
    "X_channel = X_seq[:, :, 0]\n",
    "X_campaign = X_seq[:, :, 1]"
   ]
  },
  {
   "cell_type": "markdown",
   "id": "e330b123",
   "metadata": {},
   "source": [
    "#### Train Model"
   ]
  },
  {
   "cell_type": "code",
   "execution_count": 8,
   "id": "cdcf2ad8",
   "metadata": {},
   "outputs": [],
   "source": [
    "# Hyperparameters\n",
    "lstm_units = 32\n",
    "batch_size = 64\n",
    "epochs = 30\n",
    "embedding_dim = 4"
   ]
  },
  {
   "cell_type": "code",
   "execution_count": 9,
   "id": "636310f0",
   "metadata": {},
   "outputs": [
    {
     "name": "stdout",
     "output_type": "stream",
     "text": [
      "Epoch 1/30\n",
      "\u001b[1m141/141\u001b[0m \u001b[32m━━━━━━━━━━━━━━━━━━━━\u001b[0m\u001b[37m\u001b[0m \u001b[1m2s\u001b[0m 3ms/step - accuracy: 0.9042 - loss: 0.2723 - recall: 0.9460 - val_accuracy: 0.9530 - val_loss: 0.1998 - val_recall: 1.0000\n",
      "Epoch 2/30\n",
      "\u001b[1m141/141\u001b[0m \u001b[32m━━━━━━━━━━━━━━━━━━━━\u001b[0m\u001b[37m\u001b[0m \u001b[1m2s\u001b[0m 3ms/step - accuracy: 0.9042 - loss: 0.2723 - recall: 0.9460 - val_accuracy: 0.9530 - val_loss: 0.1998 - val_recall: 1.0000\n",
      "Epoch 2/30\n",
      "\u001b[1m141/141\u001b[0m \u001b[32m━━━━━━━━━━━━━━━━━━━━\u001b[0m\u001b[37m\u001b[0m \u001b[1m0s\u001b[0m 2ms/step - accuracy: 0.9536 - loss: 0.1961 - recall: 1.0000 - val_accuracy: 0.9530 - val_loss: 0.1975 - val_recall: 1.0000\n",
      "Epoch 3/30\n",
      "\u001b[1m141/141\u001b[0m \u001b[32m━━━━━━━━━━━━━━━━━━━━\u001b[0m\u001b[37m\u001b[0m \u001b[1m0s\u001b[0m 2ms/step - accuracy: 0.9536 - loss: 0.1961 - recall: 1.0000 - val_accuracy: 0.9530 - val_loss: 0.1975 - val_recall: 1.0000\n",
      "Epoch 3/30\n",
      "\u001b[1m141/141\u001b[0m \u001b[32m━━━━━━━━━━━━━━━━━━━━\u001b[0m\u001b[37m\u001b[0m \u001b[1m0s\u001b[0m 2ms/step - accuracy: 0.9536 - loss: 0.1939 - recall: 1.0000 - val_accuracy: 0.9530 - val_loss: 0.1942 - val_recall: 1.0000\n",
      "Epoch 4/30\n",
      "\u001b[1m141/141\u001b[0m \u001b[32m━━━━━━━━━━━━━━━━━━━━\u001b[0m\u001b[37m\u001b[0m \u001b[1m0s\u001b[0m 2ms/step - accuracy: 0.9536 - loss: 0.1939 - recall: 1.0000 - val_accuracy: 0.9530 - val_loss: 0.1942 - val_recall: 1.0000\n",
      "Epoch 4/30\n",
      "\u001b[1m141/141\u001b[0m \u001b[32m━━━━━━━━━━━━━━━━━━━━\u001b[0m\u001b[37m\u001b[0m \u001b[1m0s\u001b[0m 2ms/step - accuracy: 0.9536 - loss: 0.1921 - recall: 1.0000 - val_accuracy: 0.9530 - val_loss: 0.1935 - val_recall: 1.0000\n",
      "Epoch 5/30\n",
      "\u001b[1m141/141\u001b[0m \u001b[32m━━━━━━━━━━━━━━━━━━━━\u001b[0m\u001b[37m\u001b[0m \u001b[1m0s\u001b[0m 2ms/step - accuracy: 0.9536 - loss: 0.1921 - recall: 1.0000 - val_accuracy: 0.9530 - val_loss: 0.1935 - val_recall: 1.0000\n",
      "Epoch 5/30\n",
      "\u001b[1m141/141\u001b[0m \u001b[32m━━━━━━━━━━━━━━━━━━━━\u001b[0m\u001b[37m\u001b[0m \u001b[1m0s\u001b[0m 2ms/step - accuracy: 0.9536 - loss: 0.1905 - recall: 1.0000 - val_accuracy: 0.9530 - val_loss: 0.1914 - val_recall: 1.0000\n",
      "Epoch 6/30\n",
      "\u001b[1m141/141\u001b[0m \u001b[32m━━━━━━━━━━━━━━━━━━━━\u001b[0m\u001b[37m\u001b[0m \u001b[1m0s\u001b[0m 2ms/step - accuracy: 0.9536 - loss: 0.1905 - recall: 1.0000 - val_accuracy: 0.9530 - val_loss: 0.1914 - val_recall: 1.0000\n",
      "Epoch 6/30\n",
      "\u001b[1m141/141\u001b[0m \u001b[32m━━━━━━━━━━━━━━━━━━━━\u001b[0m\u001b[37m\u001b[0m \u001b[1m0s\u001b[0m 2ms/step - accuracy: 0.9536 - loss: 0.1889 - recall: 1.0000 - val_accuracy: 0.9530 - val_loss: 0.1902 - val_recall: 1.0000\n",
      "Epoch 7/30\n",
      "\u001b[1m141/141\u001b[0m \u001b[32m━━━━━━━━━━━━━━━━━━━━\u001b[0m\u001b[37m\u001b[0m \u001b[1m0s\u001b[0m 2ms/step - accuracy: 0.9536 - loss: 0.1889 - recall: 1.0000 - val_accuracy: 0.9530 - val_loss: 0.1902 - val_recall: 1.0000\n",
      "Epoch 7/30\n",
      "\u001b[1m141/141\u001b[0m \u001b[32m━━━━━━━━━━━━━━━━━━━━\u001b[0m\u001b[37m\u001b[0m \u001b[1m0s\u001b[0m 2ms/step - accuracy: 0.9536 - loss: 0.1883 - recall: 1.0000 - val_accuracy: 0.9530 - val_loss: 0.1894 - val_recall: 1.0000\n",
      "Epoch 8/30\n",
      "\u001b[1m141/141\u001b[0m \u001b[32m━━━━━━━━━━━━━━━━━━━━\u001b[0m\u001b[37m\u001b[0m \u001b[1m0s\u001b[0m 2ms/step - accuracy: 0.9536 - loss: 0.1883 - recall: 1.0000 - val_accuracy: 0.9530 - val_loss: 0.1894 - val_recall: 1.0000\n",
      "Epoch 8/30\n",
      "\u001b[1m141/141\u001b[0m \u001b[32m━━━━━━━━━━━━━━━━━━━━\u001b[0m\u001b[37m\u001b[0m \u001b[1m0s\u001b[0m 1ms/step - accuracy: 0.9536 - loss: 0.1876 - recall: 1.0000 - val_accuracy: 0.9530 - val_loss: 0.1895 - val_recall: 1.0000\n",
      "Epoch 9/30\n",
      "\u001b[1m141/141\u001b[0m \u001b[32m━━━━━━━━━━━━━━━━━━━━\u001b[0m\u001b[37m\u001b[0m \u001b[1m0s\u001b[0m 1ms/step - accuracy: 0.9536 - loss: 0.1876 - recall: 1.0000 - val_accuracy: 0.9530 - val_loss: 0.1895 - val_recall: 1.0000\n",
      "Epoch 9/30\n",
      "\u001b[1m141/141\u001b[0m \u001b[32m━━━━━━━━━━━━━━━━━━━━\u001b[0m\u001b[37m\u001b[0m \u001b[1m0s\u001b[0m 1ms/step - accuracy: 0.9536 - loss: 0.1874 - recall: 1.0000 - val_accuracy: 0.9530 - val_loss: 0.1885 - val_recall: 1.0000\n",
      "Epoch 10/30\n",
      "\u001b[1m141/141\u001b[0m \u001b[32m━━━━━━━━━━━━━━━━━━━━\u001b[0m\u001b[37m\u001b[0m \u001b[1m0s\u001b[0m 1ms/step - accuracy: 0.9536 - loss: 0.1874 - recall: 1.0000 - val_accuracy: 0.9530 - val_loss: 0.1885 - val_recall: 1.0000\n",
      "Epoch 10/30\n",
      "\u001b[1m141/141\u001b[0m \u001b[32m━━━━━━━━━━━━━━━━━━━━\u001b[0m\u001b[37m\u001b[0m \u001b[1m0s\u001b[0m 1ms/step - accuracy: 0.9536 - loss: 0.1868 - recall: 1.0000 - val_accuracy: 0.9530 - val_loss: 0.1882 - val_recall: 1.0000\n",
      "Epoch 11/30\n",
      "\u001b[1m141/141\u001b[0m \u001b[32m━━━━━━━━━━━━━━━━━━━━\u001b[0m\u001b[37m\u001b[0m \u001b[1m0s\u001b[0m 1ms/step - accuracy: 0.9536 - loss: 0.1868 - recall: 1.0000 - val_accuracy: 0.9530 - val_loss: 0.1882 - val_recall: 1.0000\n",
      "Epoch 11/30\n",
      "\u001b[1m141/141\u001b[0m \u001b[32m━━━━━━━━━━━━━━━━━━━━\u001b[0m\u001b[37m\u001b[0m \u001b[1m0s\u001b[0m 1ms/step - accuracy: 0.9536 - loss: 0.1867 - recall: 1.0000 - val_accuracy: 0.9530 - val_loss: 0.1879 - val_recall: 1.0000\n",
      "Epoch 12/30\n",
      "\u001b[1m141/141\u001b[0m \u001b[32m━━━━━━━━━━━━━━━━━━━━\u001b[0m\u001b[37m\u001b[0m \u001b[1m0s\u001b[0m 1ms/step - accuracy: 0.9536 - loss: 0.1867 - recall: 1.0000 - val_accuracy: 0.9530 - val_loss: 0.1879 - val_recall: 1.0000\n",
      "Epoch 12/30\n",
      "\u001b[1m141/141\u001b[0m \u001b[32m━━━━━━━━━━━━━━━━━━━━\u001b[0m\u001b[37m\u001b[0m \u001b[1m0s\u001b[0m 1ms/step - accuracy: 0.9536 - loss: 0.1863 - recall: 1.0000 - val_accuracy: 0.9530 - val_loss: 0.1886 - val_recall: 1.0000\n",
      "Epoch 13/30\n",
      "\u001b[1m141/141\u001b[0m \u001b[32m━━━━━━━━━━━━━━━━━━━━\u001b[0m\u001b[37m\u001b[0m \u001b[1m0s\u001b[0m 1ms/step - accuracy: 0.9536 - loss: 0.1863 - recall: 1.0000 - val_accuracy: 0.9530 - val_loss: 0.1886 - val_recall: 1.0000\n",
      "Epoch 13/30\n",
      "\u001b[1m141/141\u001b[0m \u001b[32m━━━━━━━━━━━━━━━━━━━━\u001b[0m\u001b[37m\u001b[0m \u001b[1m0s\u001b[0m 2ms/step - accuracy: 0.9536 - loss: 0.1861 - recall: 1.0000 - val_accuracy: 0.9530 - val_loss: 0.1889 - val_recall: 1.0000\n",
      "\u001b[1m141/141\u001b[0m \u001b[32m━━━━━━━━━━━━━━━━━━━━\u001b[0m\u001b[37m\u001b[0m \u001b[1m0s\u001b[0m 2ms/step - accuracy: 0.9536 - loss: 0.1861 - recall: 1.0000 - val_accuracy: 0.9530 - val_loss: 0.1889 - val_recall: 1.0000\n"
     ]
    },
    {
     "name": "stderr",
     "output_type": "stream",
     "text": [
      "WARNING:absl:You are saving your model as an HDF5 file via `model.save()` or `keras.saving.save_model(model)`. This file format is considered legacy. We recommend using instead the native Keras format, e.g. `model.save('my_model.keras')` or `keras.saving.save_model(model, 'my_model.keras')`. \n"
     ]
    },
    {
     "name": "stdout",
     "output_type": "stream",
     "text": [
      "Model saved as lstm_attribution_model.h5\n"
     ]
    }
   ],
   "source": [
    "# Model definition\n",
    "channel_input = Input(shape=(max_touchpoints,), dtype='int32', name='channel_input')\n",
    "campaign_input = Input(shape=(max_touchpoints,), dtype='int32', name='campaign_input')\n",
    "input_cust = Input(shape=(3,), name='customer_features')\n",
    "\n",
    "channel_emb = Embedding(num_channels, embedding_dim, mask_zero=False)(channel_input)\n",
    "campaign_emb = Embedding(num_campaigns, embedding_dim, mask_zero=False)(campaign_input)\n",
    "\n",
    "x = Concatenate()([channel_emb, campaign_emb])\n",
    "lstm_out = LSTM(lstm_units)(x)\n",
    "\n",
    "x = Concatenate()([lstm_out, input_cust])\n",
    "output = Dense(1, activation='sigmoid')(x)\n",
    "\n",
    "model = Model(inputs=[channel_input, campaign_input, input_cust], outputs=output)\n",
    "model.compile(optimizer='adam', loss='binary_crossentropy', metrics=['accuracy', Recall()])\n",
    "\n",
    "# Train model\n",
    "es = EarlyStopping(patience=2, restore_best_weights=True)\n",
    "history = model.fit([X_channel, X_campaign, X_cust], y, epochs=epochs, batch_size=batch_size, validation_split=0.1, callbacks=[es])\n",
    "\n",
    "# Save the trained model for later use\n",
    "model.save('lstm_attribution_model.h5')\n",
    "print('Model saved as lstm_attribution_model.h5')"
   ]
  },
  {
   "cell_type": "code",
   "execution_count": 10,
   "id": "2b4f76c7",
   "metadata": {},
   "outputs": [
    {
     "data": {
      "image/png": "[encoded data removed]",
      "text/plain": [
       "<Figure size 300x200 with 1 Axes>"
      ]
     },
     "metadata": {},
     "output_type": "display_data"
    },
    {
     "data": {
      "image/png": "[encoded data removed]",
      "text/plain": [
       "<Figure size 300x200 with 1 Axes>"
      ]
     },
     "metadata": {},
     "output_type": "display_data"
    },
    {
     "data": {
      "image/png": "[encoded data removed]",
      "text/plain": [
       "<Figure size 300x200 with 1 Axes>"
      ]
     },
     "metadata": {},
     "output_type": "display_data"
    }
   ],
   "source": [
    "# Plot training and validation accuracy, loss, and recall as three separate plots\n",
    "plt.figure(figsize=(3, 2))\n",
    "plt.plot(history.history['accuracy'], label='Train Accuracy')\n",
    "plt.plot(history.history['val_accuracy'], label='Validation Accuracy')\n",
    "plt.title('Model Accuracy')\n",
    "plt.xlabel('Epoch')\n",
    "plt.ylabel('Accuracy')\n",
    "plt.legend()\n",
    "plt.show()\n",
    "\n",
    "plt.figure(figsize=(3, 2))\n",
    "plt.plot(history.history['loss'], label='Train Loss')\n",
    "plt.plot(history.history['val_loss'], label='Validation Loss')\n",
    "plt.title('Model Loss')\n",
    "plt.xlabel('Epoch')\n",
    "plt.ylabel('Loss')\n",
    "plt.legend()\n",
    "plt.show()\n",
    "\n",
    "if 'recall' in history.history:  # Only plot if recall is available\n",
    "    plt.figure(figsize=(3, 2))\n",
    "    plt.plot(history.history['recall'], label='Train Recall')\n",
    "    plt.plot(history.history['val_recall'], label='Validation Recall')\n",
    "    plt.title('Model Recall')\n",
    "    plt.xlabel('Epoch')\n",
    "    plt.ylabel('Recall')\n",
    "    plt.legend()\n",
    "    plt.show()"
   ]
  },
  {
   "cell_type": "code",
   "execution_count": 11,
   "id": "9cb79fdf",
   "metadata": {},
   "outputs": [
    {
     "name": "stderr",
     "output_type": "stream",
     "text": [
      "WARNING:absl:Compiled the loaded model, but the compiled metrics have yet to be built. `model.compile_metrics` will be empty until you train or evaluate the model.\n"
     ]
    }
   ],
   "source": [
    "# Load the trained LSTM model\n",
    "model_path = 'lstm_attribution_model.h5'\n",
    "if not os.path.exists(model_path):\n",
    "    raise FileNotFoundError(f\"Model file '{model_path}' not found. Please ensure the file exists in the working directory.\")\n",
    "model = load_model(model_path)\n",
    "\n",
    "channel_to_idx = {ch: i for i, ch in enumerate(channels)}\n",
    "idx_to_channel = {i: ch for i, ch in enumerate(channels)}\n",
    "campaign_to_idx = {c: i for i, c in enumerate(campaigns)}\n",
    "idx_to_campaign = {i: c for i, c in enumerate(campaigns)}"
   ]
  },
  {
   "cell_type": "markdown",
   "id": "e24ff05b",
   "metadata": {},
   "source": [
    "#### Channel Path & Campaign Path Beam Search"
   ]
  },
  {
   "cell_type": "code",
   "execution_count": 21,
   "id": "21a917f6",
   "metadata": {},
   "outputs": [],
   "source": [
    "# use stochastic sampling for campaign selection, but deterministic for channel selection\n",
    "import random\n",
    "def beam_search_start_channel_with_campaign(model, customer_features, start_channel_name, start_campaign_idx, num_channels, num_campaigns, max_touchpoints, beam_width=5, temperature=1.0, campaign_sample_topk=3):\n",
    "    if isinstance(start_channel_name, int):\n",
    "        start_idx = start_channel_name\n",
    "    else:\n",
    "        start_idx = channel_to_idx[start_channel_name]\n",
    "    beams = [([start_idx], [start_campaign_idx], 0)]  # (channels, campaigns, log_prob)\n",
    "    seen_channel_seqs = set() # Track unique channel sequences\n",
    "    for t in range(1, max_touchpoints):\n",
    "        candidates = []\n",
    "        for ch_seq, camp_seq, log_prob in beams:\n",
    "            for ch in range(num_channels):\n",
    "                # For each channel, consider all campaigns, but sample campaigns stochastically\n",
    "                camp_probs = []\n",
    "                for camp in range(num_campaigns):\n",
    "                    new_ch_seq = ch_seq + [ch]\n",
    "                    new_camp_seq = camp_seq + [camp]\n",
    "                    if max([new_ch_seq.count(x) for x in set(new_ch_seq)]) > 2:\n",
    "                        continue\n",
    "                    if max([new_camp_seq.count(x) for x in set(new_camp_seq)]) > 2:\n",
    "                        continue\n",
    "                    ch_seq_tuple = tuple(new_ch_seq)\n",
    "                    if ch_seq_tuple in seen_channel_seqs:\n",
    "                        continue\n",
    "                    ch_arr = np.array([new_ch_seq + [0]*(max_touchpoints-len(new_ch_seq))])\n",
    "                    camp_arr = np.array([new_camp_seq + [0]*(max_touchpoints-len(new_camp_seq))])\n",
    "                    prob = model.predict([ch_arr, camp_arr, customer_features], verbose=0)[0,0]\n",
    "                    prob = np.exp(np.log(prob + 1e-8) / temperature)\n",
    "                    camp_probs.append((camp, new_ch_seq, new_camp_seq, log_prob + np.log(prob + 1e-8)))\n",
    "                # Sample campaigns for this channel based on their probabilities\n",
    "                if camp_probs:\n",
    "                    # Sort by log-prob, take top-k, then sample from them\n",
    "                    camp_probs.sort(key=lambda x: x[3], reverse=True)\n",
    "                    topk = camp_probs[:campaign_sample_topk] if len(camp_probs) > campaign_sample_topk else camp_probs\n",
    "                    # Convert log-probs to probabilities for sampling\n",
    "                    logprobs = np.array([x[3] for x in topk])\n",
    "                    probs = np.exp(logprobs - np.max(logprobs))\n",
    "                    probs = probs / probs.sum()\n",
    "                    # Sample one or more campaigns (up to beam_width per channel)\n",
    "                    sampled_idxs = np.random.choice(len(topk), size=min(beam_width, len(topk)), replace=False, p=probs)\n",
    "                    for idx in sampled_idxs:\n",
    "                        camp, new_ch_seq, new_camp_seq, new_log_prob = topk[idx]\n",
    "                        ch_seq_tuple = tuple(new_ch_seq)\n",
    "                        if ch_seq_tuple in seen_channel_seqs:\n",
    "                            continue\n",
    "                        seen_channel_seqs.add(ch_seq_tuple)\n",
    "                        candidates.append((new_ch_seq, new_camp_seq, new_log_prob))\n",
    "        # After all channels, keep top beam_width overall\n",
    "        candidates.sort(key=lambda x: x[2], reverse=True)\n",
    "        beams = candidates[:beam_width]\n",
    "    return [((ch, camp), score) for ch, camp, score in beams]"
   ]
  },
  {
   "cell_type": "code",
   "execution_count": 26,
   "id": "b7a9eeb3",
   "metadata": {},
   "outputs": [
    {
     "data": {
      "application/vnd.jupyter.widget-view+json": {
       "model_id": "3b5916eed3f047998ea13932761001b8",
       "version_major": 2,
       "version_minor": 0
      },
      "text/plain": [
       "VBox(children=(HTML(value='<h1 style=\"text-align:center; margin-bottom: 20px;\">Multi-Touch Customer Optimizati…"
      ]
     },
     "metadata": {},
     "output_type": "display_data"
    },
    {
     "data": {
      "application/vnd.jupyter.widget-view+json": {
       "model_id": "20bc3c07179b4a33bf76ca3e5e09808b",
       "version_major": 2,
       "version_minor": 0
      },
      "text/plain": [
       "Output()"
      ]
     },
     "metadata": {},
     "output_type": "display_data"
    }
   ],
   "source": [
    "# Title widget for the UI\n",
    "title_widget = widgets.HTML('<h1 style=\"text-align:center; margin-bottom: 20px;\">Multi-Touch Customer Optimization Tool</h1>')\n",
    "\n",
    "def update_paths(start_channel, start_campaign, age, income, marital_status, temperature):\n",
    "    # Encode marital status using the same encoder as in preprocessing\n",
    "    marital_status_enc = le_marital.transform([marital_status])[0] if hasattr(le_marital, 'classes_') else 1\n",
    "    customer_features = np.array([[age, income, marital_status_enc]])\n",
    "    customer_features_scaled = scaler.transform(customer_features)\n",
    "    if isinstance(start_campaign, int):\n",
    "        start_campaign_idx = start_campaign\n",
    "    else:\n",
    "        start_campaign_idx = campaign_to_idx[start_campaign]\n",
    "    results = beam_search_start_channel_with_campaign(model, customer_features_scaled, start_channel, start_campaign_idx, num_channels, num_campaigns, max_touchpoints, beam_width=3, temperature=temperature)\n",
    "    clear_output(wait=True)\n",
    "    # Print best paths with reduced font size for readability\n",
    "    html = f'<div style=\"font-size:12px; font-family:monospace; margin-bottom:10px;\">Best paths starting from <b>{start_channel}</b> / <b>{start_campaign}</b> for Age=<b>{age}</b>, Income=<b>{income}</b>, Marital Status=<b>{marital_status}</b>, Temperature=<b>{temperature}</b>:'\n",
    "    for (ch_seq, camp_seq), score in results:\n",
    "        html += f'<br>Channels: {[idx_to_channel[i] for i in ch_seq]}, Campaigns: {[idx_to_campaign[i] for i in camp_seq]}, Log-Prob: {score:.4f}'\n",
    "    html += '</div>'\n",
    "    display(HTML(html))\n",
    "    # Side-by-side plots\n",
    "    fig, (ax1, ax2) = plt.subplots(1, 2, figsize=(14, 5), sharex=True)\n",
    "    for i, ((ch_seq, camp_seq), score) in enumerate(results):\n",
    "        ax1.plot(range(len(ch_seq)), ch_seq, marker='o', label=f'Path {i+1} (log-prob={score:.2f})')\n",
    "        ax2.plot(range(len(camp_seq)), camp_seq, marker='s', label=f'Path {i+1} (log-prob={score:.2f})')\n",
    "    ax1.set_xticks(range(max_touchpoints))\n",
    "    ax1.set_yticks(range(num_channels))\n",
    "    ax1.set_yticklabels([idx_to_channel[i] for i in range(num_channels)])\n",
    "    ax1.set_ylabel('Channel')\n",
    "    ax1.set_xlabel('Touchpoint Order')\n",
    "    ax1.set_title(f'Best Channel Paths Starting from {start_channel}')\n",
    "    ax1.legend()\n",
    "    ax2.set_xticks(range(max_touchpoints))\n",
    "    ax2.set_yticks(range(num_campaigns))\n",
    "    ax2.set_yticklabels([idx_to_campaign[i] for i in range(num_campaigns)])\n",
    "    ax2.set_xlabel('Touchpoint Order')\n",
    "    ax2.set_ylabel('Campaign')\n",
    "    ax2.set_title('Campaign Paths for Each Beam')\n",
    "    ax2.legend()\n",
    "    plt.tight_layout()\n",
    "    plt.show()\n",
    "\n",
    "# --- Display the title and dropdowns directly under the title ---\n",
    "style = {'description_width': 'initial'}\n",
    "channel_selector = widgets.Dropdown(options=channels, value=channels[0], description='Starting Channel:', style=style)\n",
    "campaign_selector = widgets.Dropdown(options=campaigns, value=campaigns[0], description='Starting Campaign:', style=style)\n",
    "marital_status_selector = widgets.Dropdown(options=le_marital.classes_ if hasattr(le_marital, 'classes_') else ['single','married','divorced'], value='married', description='Marital Status:', style=style)\n",
    "age_slider = widgets.IntSlider(value=45, min=18, max=70, step=1, description='Customer Age:', style=style)\n",
    "income_slider = widgets.IntSlider(value=70000, min=20000, max=200000, step=1000, description='Customer Income:', style=style)\n",
    "temperature_slider = widgets.FloatSlider(value=1.0, min=0.1, max=2.0, step=0.1, description='Temperature:', style=style)\n",
    "ui = widgets.VBox([title_widget, channel_selector, campaign_selector,  marital_status_selector, age_slider, income_slider, temperature_slider])\n",
    "out = widgets.interactive_output(update_paths, {'start_channel': channel_selector, 'start_campaign': campaign_selector, 'marital_status': marital_status_selector, 'age': age_slider, 'income': income_slider, 'temperature': temperature_slider})\n",
    "display(ui, out)"
   ]
  },
  {
   "cell_type": "code",
   "execution_count": null,
   "id": "10d9ff62",
   "metadata": {},
   "outputs": [],
   "source": []
  }
 ],
 "metadata": {
  "kernelspec": {
   "display_name": ".env",
   "language": "python",
   "name": "python3"
  },
  "language_info": {
   "codemirror_mode": {
    "name": "ipython",
    "version": 3
   },
   "file_extension": ".py",
   "mimetype": "text/x-python",
   "name": "python",
   "nbconvert_exporter": "python",
   "pygments_lexer": "ipython3",
   "version": "3.13.7"
  }
 },
 "nbformat": 4,
 "nbformat_minor": 5
}
